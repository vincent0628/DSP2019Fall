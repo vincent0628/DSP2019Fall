{
 "cells": [
  {
   "cell_type": "markdown",
   "metadata": {},
   "source": [
    "# Preprocess-change npy to image"
   ]
  },
  {
   "cell_type": "code",
   "execution_count": null,
   "metadata": {},
   "outputs": [],
   "source": [
    "import matplotlib.pyplot as plt\n",
    "import numpy as np\n",
    "import librosa\n",
    "import librosa.display \n",
    "import os\n",
    "#can choose 'train' or 'val'\n",
    "path = os.path.join('DSP_HW','val')\n",
    "for filename in os.listdir(path):\n",
    "    train_voice = os.path.join(path,filename)\n",
    "    for each_npy_file in os.listdir(train_voice):\n",
    "        npy_file = os.path.join(train_voice,each_npy_file)\n",
    "        y = np.load(npy_file,allow_pickle=True)\n",
    "        S= librosa.feature.melspectrogram(y)\n",
    "        plt.figure(figsize=(10, 4))\n",
    "        S_dB = librosa.power_to_db(S, ref=np.max)\n",
    "        librosa.display.specshow(S_dB, x_axis='time',\n",
    "                                 y_axis='mel', \n",
    "                                 fmax=8000)\n",
    "        plt.colorbar(format='%+2.0f dB')\n",
    "        plt.title('Mel-frequency spectrogram')\n",
    "        plt.tight_layout()\n",
    "        name = each_npy_file.split(\".\", 1)[0]\n",
    "        plt.savefig(os.path.join(train_voice,name+'.jpg'))"
   ]
  },
  {
   "cell_type": "markdown",
   "metadata": {},
   "source": [
    "# Classification\n",
    "1. load dataset\n",
    "2. use pre-processing\n",
    "3. train the model\n",
    "4. save and load your well-trained model\n",
    "5. test performance\n",
    "6. obtain predictions from a few images"
   ]
  },
  {
   "cell_type": "code",
   "execution_count": null,
   "metadata": {},
   "outputs": [],
   "source": [
    "# import some libraries you maybe use\n",
    "import torchvision # an useful library to help I/O (highly recommend). To install this, just do \"pip install torchvision\"\n",
    "import torch\n",
    "import torch.optim as optim\n",
    "import torch.nn as nn\n",
    "import torch.nn.functional as F\n",
    "import numpy as np"
   ]
  },
  {
   "cell_type": "markdown",
   "metadata": {},
   "source": [
    "# Data loading\n",
    "In order to train the model with training data, the first step is to read the data from your folder, database, etc."
   ]
  },
  {
   "cell_type": "code",
   "execution_count": null,
   "metadata": {},
   "outputs": [],
   "source": [
    "from torchvision.datasets import ImageFolder\n",
    "from torchvision.transforms import Compose, ToTensor, Grayscale, Resize, Normalize\n",
    "from torch.utils.data import DataLoader\n",
    "import os\n",
    "\n",
    "# Define path to your dataset\n",
    "dataset = \"DSP_HW\" # the root folder\n",
    "trainpath = os.path.join(dataset,\"train\") # train set\n",
    "valpath = os.path.join(dataset,\"val\") # validation set\n",
    "\n",
    "\n",
    "# Define some operations to preprocess your inputs.\n",
    "mytransforms = Compose([Grayscale(num_output_channels=1),Resize((32,32)),ToTensor()])\n",
    "# The above line will work in this flow:\n",
    "# (PIL_RGB_INPUT) => (PIL_GrayScale_INPUT) => (32x32_PIL_GrayScale_INPUT) => (32x32_Tensor_GrayScale_INPUT)\n",
    "\n",
    "traindata = ImageFolder(root=trainpath, transform=mytransforms)\n",
    "valdata = ImageFolder(root=valpath,transform=mytransforms)\n",
    "\n",
    "# Create a loader\n",
    "trainloader = DataLoader(traindata,batch_size=64,shuffle=True)\n",
    "valloader = DataLoader(valdata,batch_size=64,shuffle=True)"
   ]
  },
  {
   "cell_type": "code",
   "execution_count": null,
   "metadata": {},
   "outputs": [],
   "source": [
    "idx_to_class = {val: key for key, val in traindata.class_to_idx.items()} # build an inverse mapping for later use\n",
    "print(idx_to_class)"
   ]
  },
  {
   "cell_type": "markdown",
   "metadata": {},
   "source": [
    "# Build a network"
   ]
  },
  {
   "cell_type": "code",
   "execution_count": null,
   "metadata": {},
   "outputs": [],
   "source": [
    "class Net(nn.Module):\n",
    "    def __init__(self,num_classes):\n",
    "        super(Net, self).__init__()\n",
    "        self.conv1 = nn.Conv2d(1, 6, 5)\n",
    "        self.conv2 = nn.Conv2d(6, 16, 5)\n",
    "        self.fc1   = nn.Linear(16*5*5, 120)\n",
    "        self.fc2   = nn.Linear(120, 84)\n",
    "        self.fc3   = nn.Linear(84, num_classes)\n",
    "\n",
    "    def forward(self, x):\n",
    "        out = F.relu(self.conv1(x))\n",
    "        out = F.max_pool2d(out, 2)\n",
    "        out = F.relu(self.conv2(out))\n",
    "        out = F.max_pool2d(out, 2)\n",
    "        out = out.view(out.size(0), -1)\n",
    "        out = F.relu(self.fc1(out))\n",
    "        out = F.relu(self.fc2(out))\n",
    "        out = self.fc3(out)\n",
    "        return out"
   ]
  },
  {
   "cell_type": "code",
   "execution_count": null,
   "metadata": {},
   "outputs": [],
   "source": [
    "net = Net(num_classes=len(traindata.classes)) # initialize your network\n",
    "# Whether to use GPU or not?\n",
    "device = 'cpu'\n",
    "if torch.cuda.is_available():\n",
    "    device = 'cuda'\n",
    "else: \n",
    "    device = 'cpu'\n",
    "print(\"use\",device,\"now!\")\n",
    "net.to(device)\n",
    "optimizer = optim.SGD(net.parameters(), lr=0.001) # setup your optimizer\n",
    "criterion = nn.CrossEntropyLoss() # setup your criterion"
   ]
  },
  {
   "cell_type": "markdown",
   "metadata": {},
   "source": [
    "# Train the model with the data"
   ]
  },
  {
   "cell_type": "code",
   "execution_count": null,
   "metadata": {},
   "outputs": [],
   "source": [
    "net.train()\n",
    "num_epoch = 10\n",
    "for epoch in range(num_epoch):\n",
    "    for batch_idx, (data, target) in enumerate(trainloader):\n",
    "        #print(data.shape,target)\n",
    "        data = data.to(device)\n",
    "        target = target.to(device)\n",
    "        optimizer.zero_grad()\n",
    "        output = net(data)\n",
    "        loss = criterion(output, target)\n",
    "        loss.backward()\n",
    "        optimizer.step()\n",
    "        if batch_idx % 5==0:\n",
    "            print('epoch %d, iter %d loss: %.3f' %(epoch+1, batch_idx+1, loss.item()))"
   ]
  },
  {
   "cell_type": "markdown",
   "metadata": {},
   "source": [
    "# Save model"
   ]
  },
  {
   "cell_type": "code",
   "execution_count": null,
   "metadata": {},
   "outputs": [],
   "source": [
    "def save_model(model,filename):\n",
    "    state = model.state_dict()\n",
    "    for key in state: state[key] = state[key].clone().cpu()\n",
    "    torch.save(state, filename)\n",
    "save_model(net,\"weight.pth\")"
   ]
  },
  {
   "cell_type": "markdown",
   "metadata": {},
   "source": [
    "# Load model"
   ]
  },
  {
   "cell_type": "code",
   "execution_count": null,
   "metadata": {},
   "outputs": [],
   "source": [
    "def load_model(model,filename):\n",
    "    model.load_state_dict(torch.load(filename))\n",
    "    return model\n",
    "net = Net(num_classes=len(traindata.classes)) # initialize your network\n",
    "net = load_model(net,\"weight.pth\")\n",
    "# Whether to use GPU or not?\n",
    "device = 'cpu'\n",
    "if torch.cuda.is_available():\n",
    "    device = 'cuda'\n",
    "else: \n",
    "    device = 'cpu'\n",
    "print(\"use\",device,\"now!\")\n",
    "net.to(device)"
   ]
  },
  {
   "cell_type": "markdown",
   "metadata": {},
   "source": [
    "# Evaluate on validation data"
   ]
  },
  {
   "cell_type": "code",
   "execution_count": null,
   "metadata": {},
   "outputs": [],
   "source": [
    "net.eval()\n",
    "correct = 0\n",
    "with torch.no_grad():\n",
    "    for batch_idx, (data, target) in enumerate(valloader):\n",
    "        data = data.to(device)\n",
    "        target = target.to(device)\n",
    "        output = net(data)\n",
    "        pred = output.data.max(1, keepdim=True)[1]\n",
    "        correct += pred.eq(target.data.view_as(pred)).sum()\n",
    "    acc = correct.item() / len(valloader.dataset)\n",
    "print(\"Validation Classification Accuracy: %f\"%(acc))"
   ]
  },
  {
   "cell_type": "markdown",
   "metadata": {},
   "source": [
    "# Obtain predictions from a few images"
   ]
  },
  {
   "cell_type": "code",
   "execution_count": null,
   "metadata": {},
   "outputs": [],
   "source": [
    "import matplotlib.pyplot as plt\n",
    "import numpy as np\n",
    "import librosa\n",
    "import librosa.display \n",
    "import os\n",
    "\n",
    "path = os.path.join('DSP_HW','test')\n",
    "y = np.load(os.path.join(path,'test.npy'),allow_pickle=True)\n",
    "for index, item in enumerate(y):\n",
    "    S= librosa.feature.melspectrogram(y[index])\n",
    "    plt.figure(figsize=(10, 4))\n",
    "    S_dB = librosa.power_to_db(S, ref=np.max)\n",
    "    librosa.display.specshow(S_dB, x_axis='time',\n",
    "                             y_axis='mel', \n",
    "                             fmax=8000)\n",
    "    plt.colorbar(format='%+2.0f dB')\n",
    "    plt.title('Mel-frequency spectrogram')\n",
    "    plt.tight_layout()\n",
    "    output_path = os.path.join(path,str(index)+'.jpg')\n",
    "    plt.savefig(output_path)"
   ]
  },
  {
   "cell_type": "code",
   "execution_count": null,
   "metadata": {},
   "outputs": [],
   "source": [
    "# fetch filepaths of the testing images\n",
    "testpath = os.path.join(dataset,\"test\") # test set\n",
    "testlist = [os.path.join(testpath,imgpath) for imgpath in os.listdir(testpath)]"
   ]
  },
  {
   "cell_type": "code",
   "execution_count": null,
   "metadata": {},
   "outputs": [],
   "source": [
    "# ImagePath => PIL_Image => Tensor\n",
    "from PIL import Image\n",
    "testdata = []\n",
    "for imgpath in testlist:\n",
    "    if imgpath == 'DSP_HW\\\\test\\\\test.npy':\n",
    "        continue\n",
    "    # In torchvision, we assume input images are all PIL types\n",
    "    img = Image.open(imgpath).convert(\"RGB\") # By default, torchvision read images in RGB-fashion\n",
    "    transimg = mytransforms(img)\n",
    "    testdata.append(transimg)\n",
    "testdata = torch.stack(testdata)# list of tensors to tensor\n",
    "testdata = torch.utils.data.TensorDataset(testdata)\n",
    "# =========================================================================\n",
    "# Don't shuffle the image list and set the batch_size = 1\n",
    "# It's just a trick. You can still figure out another way to achieve the same thing.\n",
    "testloader = torch.utils.data.DataLoader(testdata,batch_size=1,shuffle=False)"
   ]
  },
  {
   "cell_type": "code",
   "execution_count": null,
   "metadata": {},
   "outputs": [],
   "source": [
    "# define classes to label\n",
    "classes2label = {\n",
    "    \"Tettigonioidea1\":0, \n",
    "    \"Tettigonioidea2\":1,\n",
    "    \"drums_Snare\":2,\n",
    "    \"Grylloidea1\":3,\n",
    "    \"drums_MidTom\":4,\n",
    "    \"drums_HiHat\":5,\n",
    "    \"drums_Kick\":6,\n",
    "    \"drums_SmallTom\":7,\n",
    "    \"guitar_chord2\":8,\n",
    "    \"Frog1\":9,\n",
    "    \"Frog2\":10,\n",
    "    \"drums_FloorTom\":11,\n",
    "    \"guitar_7th_fret\":12,\n",
    "    \"drums_Rim\":13,\n",
    "    \"Grylloidea2\":14,\n",
    "    \"guitar_3rd_fret\":15,\n",
    "    \"drums_Ride\":16,\n",
    "    \"guitar_chord1\":17,\n",
    "    \"guitar_9th_fret\":18,\n",
    "    \"Frog3\":19\n",
    "}"
   ]
  },
  {
   "cell_type": "code",
   "execution_count": null,
   "metadata": {},
   "outputs": [],
   "source": [
    "# Testing\n",
    "net.eval()\n",
    "result = {}\n",
    "import collections\n",
    "def sortedDictValues(adict): \n",
    "    keys = adict.keys() \n",
    "    keys.sort() \n",
    "    return [dict[key] for key in keys] \n",
    "       \n",
    "with torch.no_grad():\n",
    "    for idx, (data,) in enumerate(testloader):\n",
    "        data = data.to(device)\n",
    "        target = target.to(device)\n",
    "        output = net(data)\n",
    "        pred_idx = output.data.max(1, keepdim=True)[1]\n",
    "        pred_class = idx_to_class[pred_idx.cpu().numpy()[0][0]]\n",
    "        index = os.path.split(testlist[idx])[1][:-4]\n",
    "        result[int(index)] = classes2label[pred_class]\n",
    "        result =  dict(sorted(result.items()))          \n"
   ]
  },
  {
   "cell_type": "markdown",
   "metadata": {},
   "source": [
    "# Write the result to csv"
   ]
  },
  {
   "cell_type": "code",
   "execution_count": null,
   "metadata": {},
   "outputs": [],
   "source": [
    "import csv\n",
    "with open('2019_12_07.csv', 'w') as csvfile:\n",
    "    fieldnames = ['id', 'category']\n",
    "    writer = csv.DictWriter(csvfile, fieldnames=fieldnames, lineterminator = '\\n')\n",
    "    writer.writeheader()\n",
    "    for key in result.keys():\n",
    "        csvfile.write(\"%s,%s\\n\"%(key,result[key]))"
   ]
  }
 ],
 "metadata": {
  "kernelspec": {
   "display_name": "Python 3",
   "language": "python",
   "name": "python3"
  },
  "language_info": {
   "codemirror_mode": {
    "name": "ipython",
    "version": 3
   },
   "file_extension": ".py",
   "mimetype": "text/x-python",
   "name": "python",
   "nbconvert_exporter": "python",
   "pygments_lexer": "ipython3",
   "version": "3.7.1"
  }
 },
 "nbformat": 4,
 "nbformat_minor": 2
}

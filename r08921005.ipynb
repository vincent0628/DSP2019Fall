{
 "cells": [
  {
   "cell_type": "markdown",
   "metadata": {},
   "source": [
    "# Preprocess-change npy to image"
   ]
  },
  {
   "cell_type": "code",
   "execution_count": 2,
   "metadata": {},
   "outputs": [
    {
     "name": "stdout",
     "output_type": "stream",
     "text": [
      "11025\n"
     ]
    },
    {
     "data": {
      "image/png": "[encoded data removed]",
      "text/plain": [
       "<Figure size 720x288 with 2 Axes>"
      ]
     },
     "metadata": {
      "needs_background": "light"
     },
     "output_type": "display_data"
    }
   ],
   "source": [
    "%matplotlib inline\n",
    "import matplotlib.pyplot as plt\n",
    "import numpy as np\n",
    "import librosa\n",
    "import librosa.display \n",
    "\n",
    "y = np.load('DSP_HW/test.npy',allow_pickle=True)\n",
    "print(len(y[0]))\n",
    "S= librosa.feature.melspectrogram(y=y[0])\n",
    "plt.figure(figsize=(10, 4))\n",
    "S_dB = librosa.power_to_db(S, ref=np.max)\n",
    "librosa.display.specshow(S_dB, x_axis='time',\n",
    "                         y_axis='mel', \n",
    "                         fmax=8000)\n",
    "plt.colorbar(format='%+2.0f dB')\n",
    "plt.title('Mel-frequency spectrogram')\n",
    "plt.tight_layout()\n",
    "plt.show()"
   ]
  },
  {
   "cell_type": "markdown",
   "metadata": {},
   "source": [
    "# 1,2,3 Classification\n",
    "1. how to load the dataset\n",
    "2. how to use pre-processing\n",
    "3. how to train the model\n",
    "4. how to save and load your well-trained model\n",
    "5. how to test your performance\n",
    "6. how to obtain predictions from a few images\n",
    "7. how to visual your results"
   ]
  },
  {
   "cell_type": "code",
   "execution_count": 1,
   "metadata": {},
   "outputs": [],
   "source": [
    "# import some libraries you maybe use\n",
    "import torchvision # an useful library to help I/O (highly recommend). To install this, just do \"pip install torchvision\"\n",
    "import torch\n",
    "import torch.optim as optim\n",
    "import torch.nn as nn\n",
    "import torch.nn.functional as F\n",
    "import numpy as np"
   ]
  },
  {
   "cell_type": "markdown",
   "metadata": {},
   "source": [
    "# Data loading and preprocessing\n",
    "In order to train the model with training data, the first step is to read the data from your folder, database, etc. The below is just an example."
   ]
  },
  {
   "cell_type": "code",
   "execution_count": 2,
   "metadata": {},
   "outputs": [],
   "source": [
    "from torchvision.datasets import ImageFolder\n",
    "from torchvision.transforms import Compose, ToTensor, Grayscale, Resize, Normalize\n",
    "from torch.utils.data import DataLoader\n",
    "import os\n",
    "\n",
    "# Define path to your dataset\n",
    "dataset = \"123\" # the root folder\n",
    "trainpath = os.path.join(dataset,\"train\") # train set\n",
    "valpath = os.path.join(dataset,\"val\") # validation set\n",
    "\n",
    "\n",
    "# Define some operations to preprocess your inputs.\n",
    "mytransforms = Compose([Grayscale(num_output_channels=1),Resize((32,32)),ToTensor()])\n",
    "# The above line will work in this flow:\n",
    "# (PIL_RGB_INPUT) => (PIL_GrayScale_INPUT) => (32x32_PIL_GrayScale_INPUT) => (32x32_Tensor_GrayScale_INPUT)\n",
    "\n",
    "# Create imagefolder object.\n",
    "# The ImageFolder(...) is a powerful class to load the data from the folders.\n",
    "# The data should be arranged in this manner:\n",
    "# root/dog/xxx.png\n",
    "# root/dog/xxy.png\n",
    "# root/dog/xxz.png\n",
    "# ...\n",
    "# root/cat/123.png\n",
    "# root/cat/nsdf3.png\n",
    "# root/cat/asd932_.png\n",
    "# =============================================\n",
    "# To learn more, please visit the website:\n",
    "# 1. Official API LINK: https://pytorch.org/docs/stable/torchvision/datasets.html#imagefolder\n",
    "# 2. Good Explaination LINK: https://discuss.pytorch.org/t/questions-about-imagefolder/774/6\n",
    "traindata = ImageFolder(root=trainpath, transform=mytransforms)\n",
    "valdata = ImageFolder(root=valpath,transform=mytransforms)\n",
    "\n",
    "# Create a loader\n",
    "trainloader = DataLoader(traindata,batch_size=64,shuffle=True)\n",
    "valloader = DataLoader(valdata,batch_size=64,shuffle=True)"
   ]
  },
  {
   "cell_type": "code",
   "execution_count": 3,
   "metadata": {},
   "outputs": [
    {
     "name": "stdout",
     "output_type": "stream",
     "text": [
      "['one', 'three', 'two']\n",
      "{'two': 2, 'one': 0, 'three': 1}\n"
     ]
    }
   ],
   "source": [
    "print(traindata.classes) # show all classes\n",
    "print(traindata.class_to_idx) # show the mapping from class to index."
   ]
  },
  {
   "cell_type": "code",
   "execution_count": 4,
   "metadata": {},
   "outputs": [
    {
     "name": "stdout",
     "output_type": "stream",
     "text": [
      "{0: 'one', 1: 'three', 2: 'two'}\n"
     ]
    }
   ],
   "source": [
    "idx_to_class = {val: key for key, val in traindata.class_to_idx.items()} # build an inverse mapping for later use\n",
    "print(idx_to_class)"
   ]
  },
  {
   "cell_type": "markdown",
   "metadata": {},
   "source": [
    "# Build an example network\n",
    "If you're unfamiliar with this part, please see the HW1 tutorial."
   ]
  },
  {
   "cell_type": "code",
   "execution_count": 5,
   "metadata": {},
   "outputs": [],
   "source": [
    "class Net(nn.Module):\n",
    "    def __init__(self,num_classes):\n",
    "        super(Net, self).__init__()\n",
    "        self.conv1 = nn.Conv2d(1, 6, 5)\n",
    "        self.conv2 = nn.Conv2d(6, 16, 5)\n",
    "        self.fc1   = nn.Linear(16*5*5, 120)\n",
    "        self.fc2   = nn.Linear(120, 84)\n",
    "        self.fc3   = nn.Linear(84, num_classes)\n",
    "\n",
    "    def forward(self, x):\n",
    "        out = F.relu(self.conv1(x))\n",
    "        out = F.max_pool2d(out, 2)\n",
    "        out = F.relu(self.conv2(out))\n",
    "        out = F.max_pool2d(out, 2)\n",
    "        out = out.view(out.size(0), -1)\n",
    "        out = F.relu(self.fc1(out))\n",
    "        out = F.relu(self.fc2(out))\n",
    "        out = self.fc3(out)\n",
    "        return out"
   ]
  },
  {
   "cell_type": "code",
   "execution_count": 6,
   "metadata": {},
   "outputs": [
    {
     "name": "stdout",
     "output_type": "stream",
     "text": [
      "use cuda now!\n"
     ]
    }
   ],
   "source": [
    "net = Net(num_classes=len(traindata.classes)) # initialize your network\n",
    "# Whether to use GPU or not?\n",
    "device = 'cpu'\n",
    "if torch.cuda.is_available():\n",
    "    device = 'cuda'\n",
    "else: \n",
    "    device = 'cpu'\n",
    "print(\"use\",device,\"now!\")\n",
    "net.to(device)\n",
    "optimizer = optim.SGD(net.parameters(), lr=0.05) # setup your optimizer\n",
    "criterion = nn.CrossEntropyLoss() # setup your criterion"
   ]
  },
  {
   "cell_type": "markdown",
   "metadata": {},
   "source": [
    "# Train the model with the data"
   ]
  },
  {
   "cell_type": "code",
   "execution_count": 7,
   "metadata": {},
   "outputs": [
    {
     "name": "stdout",
     "output_type": "stream",
     "text": [
      "epoch 1, iter 1 loss: 1.104\n",
      "epoch 1, iter 6 loss: 1.099\n",
      "epoch 1, iter 11 loss: 1.095\n",
      "epoch 1, iter 16 loss: 1.094\n",
      "epoch 1, iter 21 loss: 1.091\n",
      "epoch 2, iter 1 loss: 1.093\n",
      "epoch 2, iter 6 loss: 1.087\n",
      "epoch 2, iter 11 loss: 1.083\n",
      "epoch 2, iter 16 loss: 1.080\n",
      "epoch 2, iter 21 loss: 1.076\n",
      "epoch 3, iter 1 loss: 1.068\n",
      "epoch 3, iter 6 loss: 1.060\n",
      "epoch 3, iter 11 loss: 1.043\n",
      "epoch 3, iter 16 loss: 1.024\n",
      "epoch 3, iter 21 loss: 0.991\n",
      "epoch 4, iter 1 loss: 0.937\n",
      "epoch 4, iter 6 loss: 0.824\n",
      "epoch 4, iter 11 loss: 0.678\n",
      "epoch 4, iter 16 loss: 0.531\n",
      "epoch 4, iter 21 loss: 0.614\n",
      "epoch 5, iter 1 loss: 0.398\n",
      "epoch 5, iter 6 loss: 0.315\n",
      "epoch 5, iter 11 loss: 0.304\n",
      "epoch 5, iter 16 loss: 0.173\n",
      "epoch 5, iter 21 loss: 0.152\n",
      "epoch 6, iter 1 loss: 0.222\n",
      "epoch 6, iter 6 loss: 0.166\n",
      "epoch 6, iter 11 loss: 0.187\n",
      "epoch 6, iter 16 loss: 0.167\n",
      "epoch 6, iter 21 loss: 0.202\n",
      "epoch 7, iter 1 loss: 0.142\n",
      "epoch 7, iter 6 loss: 0.401\n",
      "epoch 7, iter 11 loss: 0.121\n",
      "epoch 7, iter 16 loss: 0.172\n",
      "epoch 7, iter 21 loss: 0.157\n",
      "epoch 8, iter 1 loss: 0.119\n",
      "epoch 8, iter 6 loss: 0.074\n",
      "epoch 8, iter 11 loss: 0.091\n",
      "epoch 8, iter 16 loss: 0.167\n",
      "epoch 8, iter 21 loss: 0.200\n",
      "epoch 9, iter 1 loss: 0.118\n",
      "epoch 9, iter 6 loss: 0.160\n",
      "epoch 9, iter 11 loss: 0.201\n",
      "epoch 9, iter 16 loss: 0.161\n",
      "epoch 9, iter 21 loss: 0.134\n",
      "epoch 10, iter 1 loss: 0.054\n",
      "epoch 10, iter 6 loss: 0.043\n",
      "epoch 10, iter 11 loss: 0.086\n",
      "epoch 10, iter 16 loss: 0.133\n",
      "epoch 10, iter 21 loss: 0.104\n"
     ]
    }
   ],
   "source": [
    "net.train()\n",
    "num_epoch = 10\n",
    "for epoch in range(num_epoch):\n",
    "    for batch_idx, (data, target) in enumerate(trainloader):\n",
    "        #print(data.shape,target)\n",
    "        data = data.to(device)\n",
    "        target = target.to(device)\n",
    "        optimizer.zero_grad()\n",
    "        output = net(data)\n",
    "        loss = criterion(output, target)\n",
    "        loss.backward()\n",
    "        optimizer.step()\n",
    "        if batch_idx % 5==0:\n",
    "            print('epoch %d, iter %d loss: %.3f' %(epoch+1, batch_idx+1, loss.item()))"
   ]
  },
  {
   "cell_type": "markdown",
   "metadata": {},
   "source": [
    "# Save model"
   ]
  },
  {
   "cell_type": "code",
   "execution_count": 8,
   "metadata": {},
   "outputs": [],
   "source": [
    "def save_model(model,filename):\n",
    "    state = model.state_dict()\n",
    "    for key in state: state[key] = state[key].clone().cpu()\n",
    "    torch.save(state, filename)\n",
    "save_model(net,\"weight.pth\")"
   ]
  },
  {
   "cell_type": "markdown",
   "metadata": {},
   "source": [
    "# Load model"
   ]
  },
  {
   "cell_type": "code",
   "execution_count": 9,
   "metadata": {},
   "outputs": [
    {
     "name": "stdout",
     "output_type": "stream",
     "text": [
      "use cuda now!\n"
     ]
    },
    {
     "data": {
      "text/plain": [
       "Net(\n",
       "  (conv1): Conv2d(1, 6, kernel_size=(5, 5), stride=(1, 1))\n",
       "  (conv2): Conv2d(6, 16, kernel_size=(5, 5), stride=(1, 1))\n",
       "  (fc1): Linear(in_features=400, out_features=120, bias=True)\n",
       "  (fc2): Linear(in_features=120, out_features=84, bias=True)\n",
       "  (fc3): Linear(in_features=84, out_features=3, bias=True)\n",
       ")"
      ]
     },
     "execution_count": 9,
     "metadata": {},
     "output_type": "execute_result"
    }
   ],
   "source": [
    "def load_model(model,filename):\n",
    "    model.load_state_dict(torch.load(filename))\n",
    "    return model\n",
    "net = Net(num_classes=len(traindata.classes)) # initialize your network\n",
    "net = load_model(net,\"weight.pth\")\n",
    "# Whether to use GPU or not?\n",
    "device = 'cpu'\n",
    "if torch.cuda.is_available():\n",
    "    device = 'cuda'\n",
    "else: \n",
    "    device = 'cpu'\n",
    "print(\"use\",device,\"now!\")\n",
    "net.to(device)"
   ]
  },
  {
   "cell_type": "markdown",
   "metadata": {},
   "source": [
    "# Evaluate on validation data"
   ]
  },
  {
   "cell_type": "code",
   "execution_count": 10,
   "metadata": {},
   "outputs": [
    {
     "name": "stdout",
     "output_type": "stream",
     "text": [
      "Validation Classification Accuracy: 0.966667\n"
     ]
    }
   ],
   "source": [
    "net.eval()\n",
    "correct = 0\n",
    "with torch.no_grad():\n",
    "    for batch_idx, (data, target) in enumerate(valloader):\n",
    "        data = data.to(device)\n",
    "        target = target.to(device)\n",
    "        output = net(data)\n",
    "        pred = output.data.max(1, keepdim=True)[1]\n",
    "        correct += pred.eq(target.data.view_as(pred)).sum()\n",
    "    acc = correct.item() / len(valloader.dataset)\n",
    "print(\"Validation Classification Accuracy: %f\"%(acc))"
   ]
  },
  {
   "cell_type": "markdown",
   "metadata": {},
   "source": [
    "# How to obtain predictions from a few images\n",
    "Note. There are many ways to do the same things such as customized dataset*. The below is just a simple example how I make an inference on a few images.\n",
    "\n",
    "* https://pytorch.org/docs/stable/data.html#torch.utils.data.DataLoader"
   ]
  },
  {
   "cell_type": "code",
   "execution_count": 11,
   "metadata": {},
   "outputs": [],
   "source": [
    "# fetch filepaths of the testing images\n",
    "testpath = os.path.join(dataset,\"test\") # test set\n",
    "testlist = [os.path.join(testpath,imgpath) for imgpath in os.listdir(testpath)]"
   ]
  },
  {
   "cell_type": "code",
   "execution_count": 12,
   "metadata": {},
   "outputs": [],
   "source": [
    "# ImagePath => PIL_Image => Tensor\n",
    "from PIL import Image\n",
    "testdata = []\n",
    "for imgpath in testlist:\n",
    "    # In torchvision, we assume input images are all PIL types\n",
    "    img = Image.open(imgpath).convert(\"RGB\") # By default, torchvision read images in RGB-fashion\n",
    "    transimg = mytransforms(img)\n",
    "    testdata.append(transimg)\n",
    "testdata = torch.stack(testdata)# list of tensors to tensor\n",
    "testdata = torch.utils.data.TensorDataset(testdata)\n",
    "# =========================================================================\n",
    "# Don't shuffle the image list and set the batch_size = 1\n",
    "# It's just a trick. You can still figure out another way to achieve the same thing.\n",
    "testloader = torch.utils.data.DataLoader(testdata,batch_size=1,shuffle=False)"
   ]
  },
  {
   "cell_type": "code",
   "execution_count": 13,
   "metadata": {},
   "outputs": [
    {
     "name": "stdout",
     "output_type": "stream",
     "text": [
      "predict 123\\test\\1118.jpg => three\n",
      "predict 123\\test\\1282.jpg => three\n",
      "predict 123\\test\\1384.jpg => one\n",
      "predict 123\\test\\1395.jpg => one\n",
      "predict 123\\test\\306.jpg => two\n",
      "predict 123\\test\\357.jpg => two\n"
     ]
    }
   ],
   "source": [
    "# Testing\n",
    "net.eval()\n",
    "result = {}\n",
    "with torch.no_grad():\n",
    "    for idx, (data,) in enumerate(testloader):\n",
    "        data = data.to(device)\n",
    "        target = target.to(device)\n",
    "        output = net(data)\n",
    "        pred_idx = output.data.max(1, keepdim=True)[1]\n",
    "        pred_class = idx_to_class[pred_idx.cpu().numpy()[0][0]]\n",
    "        print(\"predict\",testlist[idx],\"=>\",pred_class)\n",
    "        result[testlist[idx]] = pred_class"
   ]
  },
  {
   "cell_type": "code",
   "execution_count": 15,
   "metadata": {},
   "outputs": [
    {
     "data": {
      "image/png": "[encoded data removed]",
      "text/plain": [
       "<Figure size 576x576 with 6 Axes>"
      ]
     },
     "metadata": {
      "needs_background": "light"
     },
     "output_type": "display_data"
    }
   ],
   "source": [
    "# Visualize your results\n",
    "import matplotlib.pyplot as plt\n",
    "size = 8\n",
    "fig = plt.figure(figsize=(size, size))\n",
    "columns = len(result)\n",
    "rows = np.ceil(len(result))\n",
    "for x, filepath in enumerate(result):\n",
    "    img = plt.imread(filepath)\n",
    "    ax = fig.add_subplot(rows, columns, x+1)\n",
    "    ax.set_title(\"pred:%s\"%(result[filepath]))\n",
    "    plt.imshow(img,cmap='gray')\n",
    "plt.show()"
   ]
  },
  {
   "cell_type": "code",
   "execution_count": null,
   "metadata": {},
   "outputs": [],
   "source": []
  }
 ],
 "metadata": {
  "kernelspec": {
   "display_name": "Python 3",
   "language": "python",
   "name": "python3"
  },
  "language_info": {
   "codemirror_mode": {
    "name": "ipython",
    "version": 3
   },
   "file_extension": ".py",
   "mimetype": "text/x-python",
   "name": "python",
   "nbconvert_exporter": "python",
   "pygments_lexer": "ipython3",
   "version": "3.7.4"
  }
 },
 "nbformat": 4,
 "nbformat_minor": 2
}
